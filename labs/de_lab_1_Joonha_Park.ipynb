{
  "nbformat": 4,
  "nbformat_minor": 0,
  "metadata": {
    "colab": {
      "provenance": [],
      "toc_visible": true,
      "include_colab_link": true
    },
    "kernelspec": {
      "name": "python3",
      "display_name": "Python 3"
    },
    "language_info": {
      "name": "python"
    }
  },
  "cells": [
    {
      "cell_type": "markdown",
      "metadata": {
        "id": "view-in-github",
        "colab_type": "text"
      },
      "source": [
        "<a href=\"https://colab.research.google.com/github/joonhahaileypark/joonhahaileypark/blob/main/labs/de_lab_1_Joonha_Park.ipynb\" target=\"_parent\"><img src=\"https://colab.research.google.com/assets/colab-badge.svg\" alt=\"Open In Colab\"/></a>"
      ]
    },
    {
      "cell_type": "markdown",
      "source": [
        "# Data Engineering - Lab 1\n"
      ],
      "metadata": {
        "id": "agMEbQSZp60z"
      }
    },
    {
      "cell_type": "markdown",
      "source": [
        "## Intro to table of contents\n",
        "\n",
        "In this lab we'll be introduced to the Google Colab environment. To start this notebook simply go to \"Runtime\" and choose \"Run All\". This will connect Colab to your virtual machine and run the code needed to get your database setup.\n",
        "\n",
        "You'll notice that notebooks are setup with a table of contents navigation bar on the left nav bar of your screen. Mouse over and hover to see which options are available and click \"Table of Contents\" to see the major sections to this Notebook.  "
      ],
      "metadata": {
        "id": "UO8ZV9edsXMa"
      }
    },
    {
      "cell_type": "markdown",
      "source": [
        "## Database setups (do not modify)"
      ],
      "metadata": {
        "id": "kgVg0P9AsikJ"
      }
    },
    {
      "cell_type": "code",
      "source": [
        "# setups including getting the database\n",
        "\n",
        "!pip -q install --upgrade ipython\n",
        "!pip -q install --upgrade ipython-sql\n",
        "\n",
        "!wget -O northwind.db https://github.com/matthewpecsok/data_engineering/raw/main/data/northwind.db\n",
        "\n",
        "import sqlite3\n",
        "con = sqlite3.connect(\"northwind.db\")\n",
        "\n",
        "%load_ext sql\n",
        "%sql sqlite:///northwind.db\n",
        "\n",
        "%config SqlMagic.style = '_DEPRECATED_DEFAULT'\n",
        "%config SqlMagic.autopandas = True\n",
        "%config SqlMagic.feedback = False\n",
        "%config SqlMagic.displaycon = False"
      ],
      "metadata": {
        "id": "s7A78FWOEJPr",
        "outputId": "f64d91d5-0331-499c-8e20-881bc0a3bbb1",
        "colab": {
          "base_uri": "https://localhost:8080/"
        }
      },
      "execution_count": 1,
      "outputs": [
        {
          "output_type": "stream",
          "name": "stdout",
          "text": [
            "\u001b[?25l   \u001b[90m━━━━━━━━━━━━━━━━━━━━━━━━━━━━━━━━━━━━━━━━\u001b[0m \u001b[32m0.0/825.5 kB\u001b[0m \u001b[31m?\u001b[0m eta \u001b[36m-:--:--\u001b[0m\r\u001b[2K   \u001b[91m━━━━━━━━━━━━━━━━━━━━━━━━━━━━\u001b[0m\u001b[90m╺\u001b[0m\u001b[90m━━━━━━━━━━━\u001b[0m \u001b[32m583.7/825.5 kB\u001b[0m \u001b[31m18.4 MB/s\u001b[0m eta \u001b[36m0:00:01\u001b[0m\r\u001b[2K   \u001b[91m━━━━━━━━━━━━━━━━━━━━━━━━━━━━━━━━━━━━━━━\u001b[0m\u001b[91m╸\u001b[0m \u001b[32m819.2/825.5 kB\u001b[0m \u001b[31m18.9 MB/s\u001b[0m eta \u001b[36m0:00:01\u001b[0m\r\u001b[2K   \u001b[90m━━━━━━━━━━━━━━━━━━━━━━━━━━━━━━━━━━━━━━━━\u001b[0m \u001b[32m825.5/825.5 kB\u001b[0m \u001b[31m10.8 MB/s\u001b[0m eta \u001b[36m0:00:00\u001b[0m\n",
            "\u001b[?25h\u001b[?25l   \u001b[90m━━━━━━━━━━━━━━━━━━━━━━━━━━━━━━━━━━━━━━━━\u001b[0m \u001b[32m0.0/1.6 MB\u001b[0m \u001b[31m?\u001b[0m eta \u001b[36m-:--:--\u001b[0m\r\u001b[2K   \u001b[91m━━━━━━━━━━━━━━━━━━━━━━━━━━━━━━━━━━━━━━━\u001b[0m\u001b[91m╸\u001b[0m \u001b[32m1.6/1.6 MB\u001b[0m \u001b[31m55.5 MB/s\u001b[0m eta \u001b[36m0:00:01\u001b[0m\r\u001b[2K   \u001b[90m━━━━━━━━━━━━━━━━━━━━━━━━━━━━━━━━━━━━━━━━\u001b[0m \u001b[32m1.6/1.6 MB\u001b[0m \u001b[31m26.1 MB/s\u001b[0m eta \u001b[36m0:00:00\u001b[0m\n",
            "\u001b[?25h\u001b[?25l   \u001b[90m━━━━━━━━━━━━━━━━━━━━━━━━━━━━━━━━━━━━━━━━\u001b[0m \u001b[32m0.0/85.4 kB\u001b[0m \u001b[31m?\u001b[0m eta \u001b[36m-:--:--\u001b[0m\r\u001b[2K   \u001b[90m━━━━━━━━━━━━━━━━━━━━━━━━━━━━━━━━━━━━━━━━\u001b[0m \u001b[32m85.4/85.4 kB\u001b[0m \u001b[31m3.7 MB/s\u001b[0m eta \u001b[36m0:00:00\u001b[0m\n",
            "\u001b[?25h\u001b[31mERROR: pip's dependency resolver does not currently take into account all the packages that are installed. This behaviour is the source of the following dependency conflicts.\n",
            "google-colab 1.0.0 requires ipython==7.34.0, but you have ipython 8.32.0 which is incompatible.\u001b[0m\u001b[31m\n",
            "\u001b[0m--2025-02-20 04:15:19--  https://github.com/matthewpecsok/data_engineering/raw/main/data/northwind.db\n",
            "Resolving github.com (github.com)... 20.27.177.113\n",
            "Connecting to github.com (github.com)|20.27.177.113|:443... connected.\n",
            "HTTP request sent, awaiting response... 302 Found\n",
            "Location: https://raw.githubusercontent.com/matthewpecsok/data_engineering/main/data/northwind.db [following]\n",
            "--2025-02-20 04:15:19--  https://raw.githubusercontent.com/matthewpecsok/data_engineering/main/data/northwind.db\n",
            "Resolving raw.githubusercontent.com (raw.githubusercontent.com)... 185.199.111.133, 185.199.110.133, 185.199.109.133, ...\n",
            "Connecting to raw.githubusercontent.com (raw.githubusercontent.com)|185.199.111.133|:443... connected.\n",
            "HTTP request sent, awaiting response... 200 OK\n",
            "Length: 602112 (588K) [application/octet-stream]\n",
            "Saving to: ‘northwind.db’\n",
            "\n",
            "northwind.db        100%[===================>] 588.00K  3.11MB/s    in 0.2s    \n",
            "\n",
            "2025-02-20 04:15:20 (3.11 MB/s) - ‘northwind.db’ saved [602112/602112]\n",
            "\n"
          ]
        }
      ]
    },
    {
      "cell_type": "markdown",
      "source": [
        "## ERD of the Northwind Database"
      ],
      "metadata": {
        "id": "3GVziX6FsmTl"
      }
    },
    {
      "cell_type": "markdown",
      "source": [
        "\n",
        "![ERD](https://github.com/matthewpecsok/data_engineering/blob/main/data/Northwind_ERD.png?raw=true)\n"
      ],
      "metadata": {
        "id": "YLcJUuWbLdi_"
      }
    },
    {
      "cell_type": "markdown",
      "source": [
        "Using %sql allows for one line sql statements\n",
        "Using %%sql allows for multi-line sql statements and better readability for long sql queries."
      ],
      "metadata": {
        "id": "Xvdhv8Cav1H0"
      }
    },
    {
      "cell_type": "code",
      "source": [
        "%sql select * from products limit 4"
      ],
      "metadata": {
        "id": "vRLTc5J0MRWy"
      },
      "execution_count": null,
      "outputs": []
    },
    {
      "cell_type": "code",
      "source": [
        "%%sql\n",
        "\n",
        "select\n",
        "count(1) as product_count\n",
        "from\n",
        "products"
      ],
      "metadata": {
        "id": "JLv3uQDHLHjN"
      },
      "execution_count": null,
      "outputs": []
    },
    {
      "cell_type": "markdown",
      "source": [
        "## Lab question 1"
      ],
      "metadata": {
        "id": "x0G0OZOuwUUE"
      }
    },
    {
      "cell_type": "code",
      "source": [
        "%sql --your code here"
      ],
      "metadata": {
        "id": "eDqEw6nRMbNX"
      },
      "execution_count": null,
      "outputs": []
    },
    {
      "cell_type": "markdown",
      "source": [
        "## Lab question 2\n"
      ],
      "metadata": {
        "id": "ZoHlhzqbwaos"
      }
    },
    {
      "cell_type": "code",
      "source": [
        "%sql --your code here"
      ],
      "metadata": {
        "id": "UV-VJ4BfOiID"
      },
      "execution_count": null,
      "outputs": []
    },
    {
      "cell_type": "markdown",
      "source": [
        "## Lab question 3\n",
        "\n"
      ],
      "metadata": {
        "id": "pZBpz5ZrOiH9"
      }
    },
    {
      "cell_type": "code",
      "source": [
        "%sql --your code here"
      ],
      "metadata": {
        "id": "D0OrdrnUOo_b"
      },
      "execution_count": null,
      "outputs": []
    },
    {
      "cell_type": "markdown",
      "source": [
        "## Lab question 4\n",
        "\n"
      ],
      "metadata": {
        "id": "XCWp678BOo_a"
      }
    },
    {
      "cell_type": "code",
      "source": [
        "%sql --your code here"
      ],
      "metadata": {
        "id": "AnqCXqFKwfFs"
      },
      "execution_count": null,
      "outputs": []
    },
    {
      "cell_type": "markdown",
      "source": [
        "add additional sections as needed to complete the lab"
      ],
      "metadata": {
        "id": "fEEvzxcXNvjh"
      }
    },
    {
      "cell_type": "code",
      "source": [
        "# replace ###### with your file name\n",
        "# make sure you have your google drive mounted.\n",
        "\n",
        "!cp \"/content/drive/MyDrive/Colab Notebooks/######.ipynb\" ./\n",
        "!jupyter nbconvert --to html \"######.ipynb\""
      ],
      "metadata": {
        "id": "jaU3-cC8tpJ7"
      },
      "execution_count": null,
      "outputs": []
    }
  ]
}